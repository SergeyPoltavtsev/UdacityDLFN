{
 "cells": [
  {
   "cell_type": "markdown",
   "metadata": {
    "deletable": true,
    "editable": true
   },
   "source": [
    "# Generative Adversarial Network\n",
    "\n",
    "In this notebook, we'll be building a generative adversarial network (GAN) trained on the MNIST dataset. From this, we'll be able to generate new handwritten digits!\n",
    "\n",
    "GANs were [first reported on](https://arxiv.org/abs/1406.2661) in 2014 from Ian Goodfellow and others in Yoshua Bengio's lab. Since then, GANs have exploded in popularity. Here are a few examples to check out:\n",
    "\n",
    "* [Pix2Pix](https://affinelayer.com/pixsrv/) \n",
    "* [CycleGAN](https://github.com/junyanz/CycleGAN)\n",
    "* [A whole list](https://github.com/wiseodd/generative-models)\n",
    "\n",
    "The idea behind GANs is that you have two networks, a generator $G$ and a discriminator $D$, competing against each other. The generator makes fake data to pass to the discriminator. The discriminator also sees real data and predicts if the data it's received is real or fake. The generator is trained to fool the discriminator, it wants to output data that looks _as close as possible_ to real data. And the discriminator is trained to figure out which data is real and which is fake. What ends up happening is that the generator learns to make data that is indistiguishable from real data to the discriminator.\n",
    "\n",
    "![GAN diagram](assets/gan_diagram.png)\n",
    "\n",
    "The general structure of a GAN is shown in the diagram above, using MNIST images as data. The latent sample is a random vector the generator uses to contruct it's fake images. As the generator learns through training, it figures out how to map these random vectors to recognizable images that can fool the discriminator.\n",
    "\n",
    "The output of the discriminator is a sigmoid function, where 0 indicates a fake image and 1 indicates an real image. If you're interested only in generating new images, you can throw out the discriminator after training. Now, let's see how we build this thing in TensorFlow."
   ]
  },
  {
   "cell_type": "code",
   "execution_count": 1,
   "metadata": {
    "collapsed": true,
    "deletable": true,
    "editable": true
   },
   "outputs": [],
   "source": [
    "%matplotlib inline\n",
    "\n",
    "import pickle as pkl\n",
    "import numpy as np\n",
    "import tensorflow as tf\n",
    "import matplotlib.pyplot as plt"
   ]
  },
  {
   "cell_type": "code",
   "execution_count": 2,
   "metadata": {
    "collapsed": false,
    "deletable": true,
    "editable": true
   },
   "outputs": [
    {
     "name": "stdout",
     "output_type": "stream",
     "text": [
      "Successfully downloaded train-images-idx3-ubyte.gz 9912422 bytes.\n",
      "Extracting MNIST_data/train-images-idx3-ubyte.gz\n",
      "Successfully downloaded train-labels-idx1-ubyte.gz 28881 bytes.\n",
      "Extracting MNIST_data/train-labels-idx1-ubyte.gz\n",
      "Successfully downloaded t10k-images-idx3-ubyte.gz 1648877 bytes.\n",
      "Extracting MNIST_data/t10k-images-idx3-ubyte.gz\n",
      "Successfully downloaded t10k-labels-idx1-ubyte.gz 4542 bytes.\n",
      "Extracting MNIST_data/t10k-labels-idx1-ubyte.gz\n"
     ]
    }
   ],
   "source": [
    "from tensorflow.examples.tutorials.mnist import input_data\n",
    "mnist = input_data.read_data_sets('MNIST_data')"
   ]
  },
  {
   "cell_type": "markdown",
   "metadata": {
    "deletable": true,
    "editable": true
   },
   "source": [
    "## Model Inputs\n",
    "\n",
    "First we need to create the inputs for our graph. We need two inputs, one for the discriminator and one for the generator. Here we'll call the discriminator input `inputs_real` and the generator input `inputs_z`. We'll assign them the appropriate sizes for each of the networks.\n",
    "\n",
    ">**Exercise:** Finish the `model_inputs` function below. Create the placeholders for `inputs_real` and `inputs_z` using the input sizes `real_dim` and `z_dim` respectively."
   ]
  },
  {
   "cell_type": "code",
   "execution_count": 3,
   "metadata": {
    "collapsed": true,
    "deletable": true,
    "editable": true
   },
   "outputs": [],
   "source": [
    "def model_inputs(real_dim, z_dim):\n",
    "    inputs_real = tf.placeholder(tf.float32, (None, real_dim), \"input_real\")\n",
    "    inputs_z = tf.placeholder(tf.float32, (None, z_dim), \"input_z\")\n",
    "    \n",
    "    return inputs_real, inputs_z"
   ]
  },
  {
   "cell_type": "markdown",
   "metadata": {
    "deletable": true,
    "editable": true
   },
   "source": [
    "## Generator network\n",
    "\n",
    "![GAN Network](assets/gan_network.png)\n",
    "\n",
    "Here we'll build the generator network. To make this network a universal function approximator, we'll need at least one hidden layer. We should use a leaky ReLU to allow gradients to flow backwards through the layer unimpeded. A leaky ReLU is like a normal ReLU, except that there is a small non-zero output for negative input values.\n",
    "\n",
    "#### Variable Scope\n",
    "Here we need to use `tf.variable_scope` for two reasons. Firstly, we're going to make sure all the variable names start with `generator`. Similarly, we'll prepend `discriminator` to the discriminator variables. This will help out later when we're training the separate networks.\n",
    "\n",
    "We could just use `tf.name_scope` to set the names, but we also want to reuse these networks with different inputs. For the generator, we're going to train it, but also _sample from it_ as we're training and after training. The discriminator will need to share variables between the fake and real input images. So, we can use the `reuse` keyword for `tf.variable_scope` to tell TensorFlow to reuse the variables instead of creating new ones if we build the graph again.\n",
    "\n",
    "To use `tf.variable_scope`, you use a `with` statement:\n",
    "```python\n",
    "with tf.variable_scope('scope_name', reuse=False):\n",
    "    # code here\n",
    "```\n",
    "\n",
    "Here's more from [the TensorFlow documentation](https://www.tensorflow.org/programmers_guide/variable_scope#the_problem) to get another look at using `tf.variable_scope`.\n",
    "\n",
    "#### Leaky ReLU\n",
    "TensorFlow doesn't provide an operation for leaky ReLUs, so we'll need to make one . For this you can just take the outputs from a linear fully connected layer and pass them to `tf.maximum`. Typically, a parameter `alpha` sets the magnitude of the output for negative values. So, the output for negative input (`x`) values is `alpha*x`, and the output for positive `x` is `x`:\n",
    "$$\n",
    "f(x) = max(\\alpha * x, x)\n",
    "$$\n",
    "\n",
    "#### Tanh Output\n",
    "The generator has been found to perform the best with $tanh$ for the generator output. This means that we'll have to rescale the MNIST images to be between -1 and 1, instead of 0 and 1.\n",
    "\n",
    ">**Exercise:** Implement the generator network in the function below. You'll need to return the tanh output. Make sure to wrap your code in a variable scope, with 'generator' as the scope name, and pass the `reuse` keyword argument from the function to `tf.variable_scope`."
   ]
  },
  {
   "cell_type": "code",
   "execution_count": 4,
   "metadata": {
    "collapsed": true,
    "deletable": true,
    "editable": true
   },
   "outputs": [],
   "source": [
    "def generator(z, out_dim, n_units=128, reuse=False,  alpha=0.01):\n",
    "    ''' Build the generator network.\n",
    "    \n",
    "        Arguments\n",
    "        ---------\n",
    "        z : Input tensor for the generator\n",
    "        out_dim : Shape of the generator output\n",
    "        n_units : Number of units in hidden layer\n",
    "        reuse : Reuse the variables with tf.variable_scope\n",
    "        alpha : leak parameter for leaky ReLU\n",
    "        \n",
    "        Returns\n",
    "        -------\n",
    "        out: \n",
    "    '''\n",
    "    with tf.variable_scope(\"generator\", reuse=reuse):\n",
    "        # Hidden layer\n",
    "        h1 = tf.layers.dense(z, n_units, activation=None)\n",
    "        # Leaky ReLU\n",
    "        h1 = tf.maximum(alpha * h1, h1)\n",
    "        \n",
    "        # Logits and tanh output\n",
    "        logits = tf.layers.dense(h1, out_dim, activation=None)\n",
    "        out = tf.tanh(logits)\n",
    "        \n",
    "        return out"
   ]
  },
  {
   "cell_type": "markdown",
   "metadata": {
    "deletable": true,
    "editable": true
   },
   "source": [
    "## Discriminator\n",
    "\n",
    "The discriminator network is almost exactly the same as the generator network, except that we're using a sigmoid output layer.\n",
    "\n",
    ">**Exercise:** Implement the discriminator network in the function below. Same as above, you'll need to return both the logits and the sigmoid output. Make sure to wrap your code in a variable scope, with 'discriminator' as the scope name, and pass the `reuse` keyword argument from the function arguments to `tf.variable_scope`."
   ]
  },
  {
   "cell_type": "code",
   "execution_count": 5,
   "metadata": {
    "collapsed": true,
    "deletable": true,
    "editable": true
   },
   "outputs": [],
   "source": [
    "def discriminator(x, n_units=128, reuse=False, alpha=0.01):\n",
    "    ''' Build the discriminator network.\n",
    "    \n",
    "        Arguments\n",
    "        ---------\n",
    "        x : Input tensor for the discriminator\n",
    "        n_units: Number of units in hidden layer\n",
    "        reuse : Reuse the variables with tf.variable_scope\n",
    "        alpha : leak parameter for leaky ReLU\n",
    "        \n",
    "        Returns\n",
    "        -------\n",
    "        out, logits: \n",
    "    '''\n",
    "    with tf.variable_scope(\"discriminator\", reuse=reuse):\n",
    "        # Hidden layer\n",
    "        h1 = tf.layers.dense(x, n_units, activation=None)\n",
    "        # Leaky ReLU\n",
    "        h1 = tf.maximum(alpha*h1, h1)\n",
    "        \n",
    "        logits = tf.layers.dense(h1, 1, activation=None)\n",
    "        out = tf.sigmoid(logits)\n",
    "        \n",
    "        return out, logits"
   ]
  },
  {
   "cell_type": "markdown",
   "metadata": {
    "deletable": true,
    "editable": true
   },
   "source": [
    "## Hyperparameters"
   ]
  },
  {
   "cell_type": "code",
   "execution_count": 6,
   "metadata": {
    "collapsed": true,
    "deletable": true,
    "editable": true
   },
   "outputs": [],
   "source": [
    "# Size of input image to discriminator\n",
    "input_size = 784 # 28x28 MNIST images flattened\n",
    "# Size of latent vector to generator\n",
    "z_size = 100\n",
    "# Sizes of hidden layers in generator and discriminator\n",
    "g_hidden_size = 128\n",
    "d_hidden_size = 128\n",
    "# Leak factor for leaky ReLU\n",
    "alpha = 0.01\n",
    "# Label smoothing \n",
    "smooth = 0.1"
   ]
  },
  {
   "cell_type": "markdown",
   "metadata": {
    "deletable": true,
    "editable": true
   },
   "source": [
    "## Build network\n",
    "\n",
    "Now we're building the network from the functions defined above.\n",
    "\n",
    "First is to get our inputs, `input_real, input_z` from `model_inputs` using the sizes of the input and z.\n",
    "\n",
    "Then, we'll create the generator, `generator(input_z, input_size)`. This builds the generator with the appropriate input and output sizes.\n",
    "\n",
    "Then the discriminators. We'll build two of them, one for real data and one for fake data. Since we want the weights to be the same for both real and fake data, we need to reuse the variables. For the fake data, we're getting it from the generator as `g_model`. So the real data discriminator is `discriminator(input_real)` while the fake discriminator is `discriminator(g_model, reuse=True)`.\n",
    "\n",
    ">**Exercise:** Build the network from the functions you defined earlier."
   ]
  },
  {
   "cell_type": "code",
   "execution_count": 7,
   "metadata": {
    "collapsed": true,
    "deletable": true,
    "editable": true
   },
   "outputs": [],
   "source": [
    "tf.reset_default_graph()\n",
    "# Create our input placeholders\n",
    "input_real, input_z = model_inputs(input_size, z_size)\n",
    "\n",
    "# Generator network here\n",
    "g_model = generator(input_z, input_size, n_units=g_hidden_size,  alpha=alpha)\n",
    "# g_model is the generator output\n",
    "\n",
    "# Disriminator network here\n",
    "d_model_real, d_logits_real = discriminator(input_real, n_units=d_hidden_size, alpha=alpha)\n",
    "d_model_fake, d_logits_fake = discriminator(g_model, n_units=d_hidden_size, reuse=True, alpha=alpha)"
   ]
  },
  {
   "cell_type": "markdown",
   "metadata": {
    "deletable": true,
    "editable": true
   },
   "source": [
    "## Discriminator and Generator Losses\n",
    "\n",
    "Now we need to calculate the losses, which is a little tricky. For the discriminator, the total loss is the sum of the losses for real and fake images, `d_loss = d_loss_real + d_loss_fake`. The losses will by sigmoid cross-entropies, which we can get with `tf.nn.sigmoid_cross_entropy_with_logits`. We'll also wrap that in `tf.reduce_mean` to get the mean for all the images in the batch. So the losses will look something like \n",
    "\n",
    "```python\n",
    "tf.reduce_mean(tf.nn.sigmoid_cross_entropy_with_logits(logits=logits, labels=labels))\n",
    "```\n",
    "\n",
    "For the real image logits, we'll use `d_logits_real` which we got from the discriminator in the cell above. For the labels, we want them to be all ones, since these are all real images. To help the discriminator generalize better, the labels are reduced a bit from 1.0 to 0.9, for example,  using the parameter `smooth`. This is known as label smoothing, typically used with classifiers to improve performance. In TensorFlow, it looks something like `labels = tf.ones_like(tensor) * (1 - smooth)`\n",
    "\n",
    "The discriminator loss for the fake data is similar. The logits are `d_logits_fake`, which we got from passing the generator output to the discriminator. These fake logits are used with labels of all zeros. Remember that we want the discriminator to output 1 for real images and 0 for fake images, so we need to set up the losses to reflect that.\n",
    "\n",
    "Finally, the generator losses are using `d_logits_fake`, the fake image logits. But, now the labels are all ones. The generator is trying to fool the discriminator, so it wants to discriminator to output ones for fake images.\n",
    "\n",
    ">**Exercise:** Calculate the losses for the discriminator and the generator. There are two discriminator losses, one for real images and one for fake images. For the real image loss, use the real logits and (smoothed) labels of ones. For the fake image loss, use the fake logits with labels of all zeros. The total discriminator loss is the sum of those two losses. Finally, the generator loss again uses the fake logits from the discriminator, but this time the labels are all ones because the generator wants to fool the discriminator."
   ]
  },
  {
   "cell_type": "code",
   "execution_count": 8,
   "metadata": {
    "collapsed": true,
    "deletable": true,
    "editable": true
   },
   "outputs": [],
   "source": [
    "# Calculate losses\n",
    "real_targets = tf.ones_like(d_logits_real) * (1 - smooth)\n",
    "d_loss_real = tf.reduce_mean(tf.nn.sigmoid_cross_entropy_with_logits(logits=d_logits_real, labels=real_targets))\n",
    "\n",
    "fake_targets = tf.zeros_like(d_logits_fake)\n",
    "d_loss_fake = tf.reduce_mean(tf.nn.sigmoid_cross_entropy_with_logits(logits=d_logits_fake, labels=fake_targets))\n",
    "\n",
    "d_loss = d_loss_real + d_loss_fake\n",
    "\n",
    "g_targets = tf.ones_like(d_logits_fake)\n",
    "g_loss = tf.reduce_mean(tf.nn.sigmoid_cross_entropy_with_logits(logits=d_logits_fake, labels=g_targets))"
   ]
  },
  {
   "cell_type": "markdown",
   "metadata": {
    "deletable": true,
    "editable": true
   },
   "source": [
    "## Optimizers\n",
    "\n",
    "We want to update the generator and discriminator variables separately. So we need to get the variables for each part and build optimizers for the two parts. To get all the trainable variables, we use `tf.trainable_variables()`. This creates a list of all the variables we've defined in our graph.\n",
    "\n",
    "For the generator optimizer, we only want to generator variables. Our past selves were nice and used a variable scope to start all of our generator variable names with `generator`. So, we just need to iterate through the list from `tf.trainable_variables()` and keep variables that start with `generator`. Each variable object has an attribute `name` which holds the name of the variable as a string (`var.name == 'weights_0'` for instance). \n",
    "\n",
    "We can do something similar with the discriminator. All the variables in the discriminator start with `discriminator`.\n",
    "\n",
    "Then, in the optimizer we pass the variable lists to the `var_list` keyword argument of the `minimize` method. This tells the optimizer to only update the listed variables. Something like `tf.train.AdamOptimizer().minimize(loss, var_list=var_list)` will only train the variables in `var_list`.\n",
    "\n",
    ">**Exercise: ** Below, implement the optimizers for the generator and discriminator. First you'll need to get a list of trainable variables, then split that list into two lists, one for the generator variables and another for the discriminator variables. Finally, using `AdamOptimizer`, create an optimizer for each network that update the network variables separately."
   ]
  },
  {
   "cell_type": "code",
   "execution_count": 9,
   "metadata": {
    "collapsed": true,
    "deletable": true,
    "editable": true,
    "scrolled": true
   },
   "outputs": [],
   "source": [
    "# Optimizers\n",
    "learning_rate = 0.002\n",
    "\n",
    "# Get the trainable_variables, split into G and D parts\n",
    "t_vars = tf.trainable_variables()\n",
    "g_vars = [v for v in t_vars if v.name.startswith('generator')]\n",
    "d_vars = [v for v in t_vars if v.name.startswith('discriminator')]\n",
    "\n",
    "d_train_opt = tf.train.AdamOptimizer().minimize(d_loss, var_list=d_vars)\n",
    "g_train_opt = tf.train.AdamOptimizer().minimize(g_loss, var_list=g_vars)"
   ]
  },
  {
   "cell_type": "markdown",
   "metadata": {
    "deletable": true,
    "editable": true
   },
   "source": [
    "## Training"
   ]
  },
  {
   "cell_type": "code",
   "execution_count": 10,
   "metadata": {
    "collapsed": false,
    "deletable": true,
    "editable": true,
    "scrolled": true
   },
   "outputs": [
    {
     "name": "stdout",
     "output_type": "stream",
     "text": [
      "('Epoch 1/100...', 'Discriminator Loss: 0.3513...', 'Generator Loss: 4.0471')\n",
      "('Epoch 2/100...', 'Discriminator Loss: 0.3713...', 'Generator Loss: 3.5664')\n",
      "('Epoch 3/100...', 'Discriminator Loss: 0.3392...', 'Generator Loss: 4.6479')\n",
      "('Epoch 4/100...', 'Discriminator Loss: 0.3494...', 'Generator Loss: 4.0655')\n",
      "('Epoch 5/100...', 'Discriminator Loss: 0.3497...', 'Generator Loss: 4.3011')\n",
      "('Epoch 6/100...', 'Discriminator Loss: 0.3774...', 'Generator Loss: 4.1017')\n",
      "('Epoch 7/100...', 'Discriminator Loss: 0.4280...', 'Generator Loss: 3.6612')\n",
      "('Epoch 8/100...', 'Discriminator Loss: 0.6299...', 'Generator Loss: 2.7494')\n",
      "('Epoch 9/100...', 'Discriminator Loss: 0.5182...', 'Generator Loss: 2.8348')\n",
      "('Epoch 10/100...', 'Discriminator Loss: 0.6056...', 'Generator Loss: 3.3477')\n",
      "('Epoch 11/100...', 'Discriminator Loss: 0.7713...', 'Generator Loss: 4.7609')\n",
      "('Epoch 12/100...', 'Discriminator Loss: 0.5609...', 'Generator Loss: 4.7969')\n",
      "('Epoch 13/100...', 'Discriminator Loss: 0.7385...', 'Generator Loss: 2.5381')\n",
      "('Epoch 14/100...', 'Discriminator Loss: 0.5992...', 'Generator Loss: 3.5024')\n",
      "('Epoch 15/100...', 'Discriminator Loss: 0.7823...', 'Generator Loss: 5.4082')\n",
      "('Epoch 16/100...', 'Discriminator Loss: 0.7083...', 'Generator Loss: 2.8041')\n",
      "('Epoch 17/100...', 'Discriminator Loss: 0.7606...', 'Generator Loss: 4.3601')\n",
      "('Epoch 18/100...', 'Discriminator Loss: 0.9141...', 'Generator Loss: 1.9080')\n",
      "('Epoch 19/100...', 'Discriminator Loss: 0.8756...', 'Generator Loss: 3.7165')\n",
      "('Epoch 20/100...', 'Discriminator Loss: 0.7224...', 'Generator Loss: 3.2624')\n",
      "('Epoch 21/100...', 'Discriminator Loss: 0.7277...', 'Generator Loss: 3.3177')\n",
      "('Epoch 22/100...', 'Discriminator Loss: 0.6986...', 'Generator Loss: 2.6307')\n",
      "('Epoch 23/100...', 'Discriminator Loss: 0.6644...', 'Generator Loss: 3.0143')\n",
      "('Epoch 24/100...', 'Discriminator Loss: 1.2099...', 'Generator Loss: 3.0069')\n",
      "('Epoch 25/100...', 'Discriminator Loss: 1.3920...', 'Generator Loss: 1.6819')\n",
      "('Epoch 26/100...', 'Discriminator Loss: 0.6993...', 'Generator Loss: 2.4759')\n",
      "('Epoch 27/100...', 'Discriminator Loss: 1.0993...', 'Generator Loss: 3.6426')\n",
      "('Epoch 28/100...', 'Discriminator Loss: 0.7110...', 'Generator Loss: 3.1767')\n",
      "('Epoch 29/100...', 'Discriminator Loss: 1.1627...', 'Generator Loss: 1.5393')\n",
      "('Epoch 30/100...', 'Discriminator Loss: 0.9643...', 'Generator Loss: 2.0044')\n",
      "('Epoch 31/100...', 'Discriminator Loss: 0.8605...', 'Generator Loss: 2.3871')\n",
      "('Epoch 32/100...', 'Discriminator Loss: 0.9075...', 'Generator Loss: 2.7978')\n",
      "('Epoch 33/100...', 'Discriminator Loss: 0.8836...', 'Generator Loss: 2.3795')\n",
      "('Epoch 34/100...', 'Discriminator Loss: 1.0285...', 'Generator Loss: 2.4049')\n",
      "('Epoch 35/100...', 'Discriminator Loss: 0.7366...', 'Generator Loss: 2.1322')\n",
      "('Epoch 36/100...', 'Discriminator Loss: 0.7966...', 'Generator Loss: 2.9416')\n",
      "('Epoch 37/100...', 'Discriminator Loss: 0.7837...', 'Generator Loss: 2.1789')\n",
      "('Epoch 38/100...', 'Discriminator Loss: 0.8035...', 'Generator Loss: 2.1789')\n",
      "('Epoch 39/100...', 'Discriminator Loss: 0.8781...', 'Generator Loss: 2.2360')\n",
      "('Epoch 40/100...', 'Discriminator Loss: 0.8898...', 'Generator Loss: 2.1312')\n",
      "('Epoch 41/100...', 'Discriminator Loss: 0.8573...', 'Generator Loss: 2.1928')\n",
      "('Epoch 42/100...', 'Discriminator Loss: 0.6860...', 'Generator Loss: 2.4626')\n",
      "('Epoch 43/100...', 'Discriminator Loss: 0.9197...', 'Generator Loss: 2.0992')\n",
      "('Epoch 44/100...', 'Discriminator Loss: 0.7307...', 'Generator Loss: 2.4912')\n",
      "('Epoch 45/100...', 'Discriminator Loss: 0.8175...', 'Generator Loss: 2.0556')\n",
      "('Epoch 46/100...', 'Discriminator Loss: 0.9817...', 'Generator Loss: 1.9909')\n",
      "('Epoch 47/100...', 'Discriminator Loss: 0.8461...', 'Generator Loss: 2.0400')\n",
      "('Epoch 48/100...', 'Discriminator Loss: 0.7371...', 'Generator Loss: 2.9549')\n",
      "('Epoch 49/100...', 'Discriminator Loss: 0.7821...', 'Generator Loss: 2.2417')\n",
      "('Epoch 50/100...', 'Discriminator Loss: 1.0355...', 'Generator Loss: 2.0785')\n",
      "('Epoch 51/100...', 'Discriminator Loss: 0.9308...', 'Generator Loss: 2.1336')\n",
      "('Epoch 52/100...', 'Discriminator Loss: 0.8454...', 'Generator Loss: 2.3156')\n",
      "('Epoch 53/100...', 'Discriminator Loss: 0.9200...', 'Generator Loss: 2.1028')\n",
      "('Epoch 54/100...', 'Discriminator Loss: 0.8358...', 'Generator Loss: 2.4079')\n",
      "('Epoch 55/100...', 'Discriminator Loss: 0.7058...', 'Generator Loss: 2.3321')\n",
      "('Epoch 56/100...', 'Discriminator Loss: 0.9124...', 'Generator Loss: 1.8125')\n",
      "('Epoch 57/100...', 'Discriminator Loss: 0.8710...', 'Generator Loss: 2.2984')\n",
      "('Epoch 58/100...', 'Discriminator Loss: 0.8004...', 'Generator Loss: 2.4416')\n",
      "('Epoch 59/100...', 'Discriminator Loss: 0.8334...', 'Generator Loss: 2.5200')\n",
      "('Epoch 60/100...', 'Discriminator Loss: 0.9461...', 'Generator Loss: 2.0291')\n",
      "('Epoch 61/100...', 'Discriminator Loss: 1.0253...', 'Generator Loss: 2.0090')\n",
      "('Epoch 62/100...', 'Discriminator Loss: 0.7496...', 'Generator Loss: 2.6118')\n",
      "('Epoch 63/100...', 'Discriminator Loss: 0.9797...', 'Generator Loss: 2.1634')\n",
      "('Epoch 64/100...', 'Discriminator Loss: 0.8842...', 'Generator Loss: 2.3010')\n",
      "('Epoch 65/100...', 'Discriminator Loss: 0.8209...', 'Generator Loss: 2.2649')\n",
      "('Epoch 66/100...', 'Discriminator Loss: 0.7997...', 'Generator Loss: 2.4185')\n",
      "('Epoch 67/100...', 'Discriminator Loss: 0.8018...', 'Generator Loss: 2.3314')\n",
      "('Epoch 68/100...', 'Discriminator Loss: 0.9294...', 'Generator Loss: 2.0708')\n",
      "('Epoch 69/100...', 'Discriminator Loss: 0.7390...', 'Generator Loss: 2.4548')\n",
      "('Epoch 70/100...', 'Discriminator Loss: 0.7744...', 'Generator Loss: 2.1737')\n",
      "('Epoch 71/100...', 'Discriminator Loss: 0.9315...', 'Generator Loss: 2.2760')\n",
      "('Epoch 72/100...', 'Discriminator Loss: 0.8780...', 'Generator Loss: 1.6968')\n",
      "('Epoch 73/100...', 'Discriminator Loss: 0.9156...', 'Generator Loss: 1.9204')\n",
      "('Epoch 74/100...', 'Discriminator Loss: 0.8936...', 'Generator Loss: 2.1881')\n",
      "('Epoch 75/100...', 'Discriminator Loss: 0.7865...', 'Generator Loss: 2.7235')\n",
      "('Epoch 76/100...', 'Discriminator Loss: 0.9530...', 'Generator Loss: 2.0646')\n",
      "('Epoch 77/100...', 'Discriminator Loss: 0.9545...', 'Generator Loss: 2.1440')\n",
      "('Epoch 78/100...', 'Discriminator Loss: 1.0715...', 'Generator Loss: 1.8908')\n",
      "('Epoch 79/100...', 'Discriminator Loss: 0.9822...', 'Generator Loss: 1.9559')\n",
      "('Epoch 80/100...', 'Discriminator Loss: 0.8664...', 'Generator Loss: 2.3838')\n",
      "('Epoch 81/100...', 'Discriminator Loss: 0.8394...', 'Generator Loss: 2.2698')\n",
      "('Epoch 82/100...', 'Discriminator Loss: 0.9073...', 'Generator Loss: 2.2743')\n",
      "('Epoch 83/100...', 'Discriminator Loss: 0.9853...', 'Generator Loss: 2.0411')\n",
      "('Epoch 84/100...', 'Discriminator Loss: 0.8477...', 'Generator Loss: 1.8782')\n",
      "('Epoch 85/100...', 'Discriminator Loss: 0.8139...', 'Generator Loss: 1.9374')\n",
      "('Epoch 86/100...', 'Discriminator Loss: 0.9269...', 'Generator Loss: 2.9212')\n",
      "('Epoch 87/100...', 'Discriminator Loss: 0.8209...', 'Generator Loss: 2.1818')\n",
      "('Epoch 88/100...', 'Discriminator Loss: 0.8820...', 'Generator Loss: 2.2102')\n",
      "('Epoch 89/100...', 'Discriminator Loss: 0.8695...', 'Generator Loss: 1.8943')\n",
      "('Epoch 90/100...', 'Discriminator Loss: 0.8651...', 'Generator Loss: 2.4718')\n",
      "('Epoch 91/100...', 'Discriminator Loss: 0.9581...', 'Generator Loss: 2.1841')\n",
      "('Epoch 92/100...', 'Discriminator Loss: 0.9267...', 'Generator Loss: 1.9102')\n",
      "('Epoch 93/100...', 'Discriminator Loss: 0.8117...', 'Generator Loss: 2.1059')\n",
      "('Epoch 94/100...', 'Discriminator Loss: 1.1101...', 'Generator Loss: 1.5827')\n",
      "('Epoch 95/100...', 'Discriminator Loss: 0.9147...', 'Generator Loss: 2.3944')\n",
      "('Epoch 96/100...', 'Discriminator Loss: 0.9210...', 'Generator Loss: 1.6193')\n",
      "('Epoch 97/100...', 'Discriminator Loss: 0.8759...', 'Generator Loss: 1.9747')\n",
      "('Epoch 98/100...', 'Discriminator Loss: 0.9636...', 'Generator Loss: 1.6160')\n",
      "('Epoch 99/100...', 'Discriminator Loss: 0.9461...', 'Generator Loss: 1.4854')\n",
      "('Epoch 100/100...', 'Discriminator Loss: 0.8189...', 'Generator Loss: 2.1237')\n"
     ]
    }
   ],
   "source": [
    "batch_size = 100\n",
    "epochs = 100\n",
    "samples = []\n",
    "losses = []\n",
    "saver = tf.train.Saver(var_list = g_vars)\n",
    "with tf.Session() as sess:\n",
    "    sess.run(tf.global_variables_initializer())\n",
    "    for e in range(epochs):\n",
    "        for ii in range(mnist.train.num_examples//batch_size):\n",
    "            batch = mnist.train.next_batch(batch_size)\n",
    "            \n",
    "            # Get images, reshape and rescale to pass to D\n",
    "            batch_images = batch[0].reshape((batch_size, 784))\n",
    "            batch_images = batch_images*2 - 1\n",
    "            \n",
    "            # Sample random noise for G\n",
    "            batch_z = np.random.uniform(-1, 1, size=(batch_size, z_size))\n",
    "            \n",
    "            # Run optimizers\n",
    "            _ = sess.run(d_train_opt, feed_dict={input_real: batch_images, input_z: batch_z})\n",
    "            _ = sess.run(g_train_opt, feed_dict={input_z: batch_z})\n",
    "        \n",
    "        # At the end of each epoch, get the losses and print them out\n",
    "        train_loss_d = sess.run(d_loss, {input_z: batch_z, input_real: batch_images})\n",
    "        train_loss_g = g_loss.eval({input_z: batch_z})\n",
    "            \n",
    "        print(\"Epoch {}/{}...\".format(e+1, epochs),\n",
    "              \"Discriminator Loss: {:.4f}...\".format(train_loss_d),\n",
    "              \"Generator Loss: {:.4f}\".format(train_loss_g))    \n",
    "        # Save losses to view after training\n",
    "        losses.append((train_loss_d, train_loss_g))\n",
    "        \n",
    "        # Sample from generator as we're training for viewing afterwards\n",
    "        sample_z = np.random.uniform(-1, 1, size=(16, z_size))\n",
    "        gen_samples = sess.run(\n",
    "                       generator(input_z, input_size, n_units=g_hidden_size, reuse=True, alpha=alpha),\n",
    "                       feed_dict={input_z: sample_z})\n",
    "        samples.append(gen_samples)\n",
    "        saver.save(sess, './checkpoints/generator.ckpt')\n",
    "\n",
    "# Save training generator samples\n",
    "with open('train_samples.pkl', 'wb') as f:\n",
    "    pkl.dump(samples, f)"
   ]
  },
  {
   "cell_type": "markdown",
   "metadata": {
    "deletable": true,
    "editable": true
   },
   "source": [
    "## Training loss\n",
    "\n",
    "Here we'll check out the training losses for the generator and discriminator."
   ]
  },
  {
   "cell_type": "code",
   "execution_count": 11,
   "metadata": {
    "collapsed": true,
    "deletable": true,
    "editable": true
   },
   "outputs": [],
   "source": [
    "%matplotlib inline\n",
    "\n",
    "import matplotlib.pyplot as plt"
   ]
  },
  {
   "cell_type": "code",
   "execution_count": 12,
   "metadata": {
    "collapsed": false,
    "deletable": true,
    "editable": true
   },
   "outputs": [
    {
     "data": {
      "text/plain": [
       "<matplotlib.legend.Legend at 0x7f1b38523450>"
      ]
     },
     "execution_count": 12,
     "metadata": {},
     "output_type": "execute_result"
    },
    {
     "data": {
      "image/png": "[encoded data removed]",
      "text/plain": [
       "<matplotlib.figure.Figure at 0x7f1b40464510>"
      ]
     },
     "metadata": {},
     "output_type": "display_data"
    }
   ],
   "source": [
    "fig, ax = plt.subplots()\n",
    "losses = np.array(losses)\n",
    "plt.plot(losses.T[0], label='Discriminator')\n",
    "plt.plot(losses.T[1], label='Generator')\n",
    "plt.title(\"Training Losses\")\n",
    "plt.legend()"
   ]
  },
  {
   "cell_type": "markdown",
   "metadata": {
    "deletable": true,
    "editable": true
   },
   "source": [
    "## Generator samples from training\n",
    "\n",
    "Here we can view samples of images from the generator. First we'll look at images taken while training."
   ]
  },
  {
   "cell_type": "code",
   "execution_count": 13,
   "metadata": {
    "collapsed": true,
    "deletable": true,
    "editable": true
   },
   "outputs": [],
   "source": [
    "def view_samples(epoch, samples):\n",
    "    fig, axes = plt.subplots(figsize=(7,7), nrows=4, ncols=4, sharey=True, sharex=True)\n",
    "    for ax, img in zip(axes.flatten(), samples[epoch]):\n",
    "        ax.xaxis.set_visible(False)\n",
    "        ax.yaxis.set_visible(False)\n",
    "        im = ax.imshow(img.reshape((28,28)), cmap='Greys_r')\n",
    "    \n",
    "    return fig, axes"
   ]
  },
  {
   "cell_type": "code",
   "execution_count": null,
   "metadata": {
    "collapsed": true,
    "deletable": true,
    "editable": true
   },
   "outputs": [],
   "source": [
    "# Load samples from generator taken while training\n",
    "with open('train_samples.pkl', 'rb') as f:\n",
    "    samples = pkl.load(f)"
   ]
  },
  {
   "cell_type": "markdown",
   "metadata": {
    "deletable": true,
    "editable": true
   },
   "source": [
    "These are samples from the final training epoch. You can see the generator is able to reproduce numbers like 5, 7, 3, 0, 9. Since this is just a sample, it isn't representative of the full range of images this generator can make."
   ]
  },
  {
   "cell_type": "code",
   "execution_count": null,
   "metadata": {
    "collapsed": true,
    "deletable": true,
    "editable": true
   },
   "outputs": [],
   "source": [
    "_ = view_samples(-1, samples)"
   ]
  },
  {
   "cell_type": "markdown",
   "metadata": {
    "deletable": true,
    "editable": true
   },
   "source": [
    "Below I'm showing the generated images as the network was training, every 10 epochs. With bonus optical illusion!"
   ]
  },
  {
   "cell_type": "code",
   "execution_count": null,
   "metadata": {
    "collapsed": true,
    "deletable": true,
    "editable": true
   },
   "outputs": [],
   "source": [
    "rows, cols = 10, 6\n",
    "fig, axes = plt.subplots(figsize=(7,12), nrows=rows, ncols=cols, sharex=True, sharey=True)\n",
    "\n",
    "for sample, ax_row in zip(samples[::int(len(samples)/rows)], axes):\n",
    "    for img, ax in zip(sample[::int(len(sample)/cols)], ax_row):\n",
    "        ax.imshow(img.reshape((28,28)), cmap='Greys_r')\n",
    "        ax.xaxis.set_visible(False)\n",
    "        ax.yaxis.set_visible(False)"
   ]
  },
  {
   "cell_type": "markdown",
   "metadata": {
    "deletable": true,
    "editable": true
   },
   "source": [
    "It starts out as all noise. Then it learns to make only the center white and the rest black. You can start to see some number like structures appear out of the noise. Looks like 1, 9, and 8 show up first. Then, it learns 5 and 3."
   ]
  },
  {
   "cell_type": "markdown",
   "metadata": {
    "deletable": true,
    "editable": true
   },
   "source": [
    "## Sampling from the generator\n",
    "\n",
    "We can also get completely new images from the generator by using the checkpoint we saved after training. We just need to pass in a new latent vector $z$ and we'll get new samples!"
   ]
  },
  {
   "cell_type": "code",
   "execution_count": null,
   "metadata": {
    "collapsed": true,
    "deletable": true,
    "editable": true
   },
   "outputs": [],
   "source": [
    "saver = tf.train.Saver(var_list=g_vars)\n",
    "with tf.Session() as sess:\n",
    "    saver.restore(sess, tf.train.latest_checkpoint('checkpoints'))\n",
    "    sample_z = np.random.uniform(-1, 1, size=(16, z_size))\n",
    "    gen_samples = sess.run(\n",
    "                   generator(input_z, input_size, n_units=g_hidden_size, reuse=True, alpha=alpha),\n",
    "                   feed_dict={input_z: sample_z})\n",
    "view_samples(0, [gen_samples])"
   ]
  }
 ],
 "metadata": {
  "kernelspec": {
   "display_name": "Python 3",
   "language": "python",
   "name": "python3"
  },
  "language_info": {
   "codemirror_mode": {
    "name": "ipython",
    "version": 2
   },
   "file_extension": ".py",
   "mimetype": "text/x-python",
   "name": "python",
   "nbconvert_exporter": "python",
   "pygments_lexer": "ipython2",
   "version": "2.7.12"
  }
 },
 "nbformat": 4,
 "nbformat_minor": 2
}
